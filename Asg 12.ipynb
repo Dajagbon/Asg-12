# -*- coding: utf-8 -*-
"""
Created on Tue Apr 23 23:00:14 2024

@author: danie
"""

import pandas as pd

data = pd.read_csv(r"C:\Users\danie\Downloads\Stations.csv")
print(data)
                           
airport_map = {}

for index, row in data.iterrows():
 AIRPORT_ID = row['AIRPORT_ID']
 AIRPORT_STATE_NAME = row['AIRPORT_STATE_NAME']
 DISPLAY_AIRPORT_CITY_NAME_FULL = row['DISPLAY_AIRPORT_CITY_NAME_FULL']
 airport_map[AIRPORT_ID] = (DISPLAY_AIRPORT_CITY_NAME_FULL, AIRPORT_STATE_NAME)
location = airport_map.get('PSG')
print("Location of PSG:", location)


import pandas as pd  

data = pd.read_csv(r"C:/Users/danie/Downloads/CompleteData.csv")

def compute_popular_cities(data, column, n):
    city_counts = data.groupby(column).size().reset_index(name='count')
    city_counts_sorted = city_counts.sort_values(by='count', ascending=False)
    top_cities = city_counts_sorted.head(n)
    return top_cities

num_cities = int(input("Enter the number of popular cities you would like to know about: "))

popular_departing_cities = compute_popular_cities(data, 'ORIGIN', num_cities)
popular_arriving_cities = compute_popular_cities(data, 'DEST', num_cities)

popular_departing_cities.to_csv('popular_departing_cities.tsv', sep='\t', index=False)
popular_arriving_cities.to_csv('popular_arriving_cities.tsv', sep='\t', index=False)



